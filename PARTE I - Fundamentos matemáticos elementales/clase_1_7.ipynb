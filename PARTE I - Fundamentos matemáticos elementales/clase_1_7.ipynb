{
 "cells": [
  {
   "cell_type": "markdown",
   "id": "777beea6-f41f-48b1-9b63-bff60b2e1565",
   "metadata": {},
   "source": [
    "# CLASE 1.7: Una (no tan breve) introducción a la teoría de grafos.\n",
    "---\n",
    "## Intoducción.\n",
    "Los **grafos**, también conocidos como **redes**, son protagonistas de muchísimas aplicaciones en el mundo real, tales como el Internet, las redes sociales y las redes de comunicación. Por supuesto, existen muchísimas implementaciones de los algoritmos de machine learning que pueden conceptualizarse de forma sumamente elegante mediante el uso de grafos, sobre la base –como siempre– de problemas de optimización. Los grafos pueden ser representados por una cantidad no menor de objetos matemáticos, entre los cuales se encuentran las matrices. Tales matrices poseen propiedades deseables que las hacen sumamente útiles para una serie de aplicaciones en el contexto del aprendizaje automatizado.\n",
    "\n",
    "Esta última sección \"de repaso\" (entre comillas porque esto no es *tan* común en muchas carreras de ingeniería... ¡como la mía!) está estructurada de manera tal que, en un comienzo, introduciremos los elementos básicos relativos a los grafos o redes y sus representaciones mediante **matrices de adyacencia**, para luego describir las propiedades de estas matrices y concluir algunos resultados importantes en relación a su descomposición diagonal. Luego nos adentraremos un poco en la teoría de clustering con base en el uso de grafos, haciendo uso intensivo de herramientas desarrolladas en las secciones dedicadas al álgebra lineal. Finalmente, discutiremos algunos aspectos relativos a algoritmos de ranking y grafos con conectividad limitada, dándonos algo de tiempo de revisar brevemente algunas aplicaciones orientadas a los algoritmos de aprendizaje."
   ]
  },
  {
   "cell_type": "markdown",
   "id": "31c3cee8-be38-454a-a401-cdbed527fc49",
   "metadata": {},
   "source": [
    "## Elementos básicos de un grafo.\n",
    "Un **grafo** o **red** es una estructura que comúnmente se utiliza para representar *relaciones* entre ciertos objetos. Tales objetos pueden ser de cualquier tipo, tales como sitios web, usuarios de una red social, elementos químicos que conforman la molécula de una estructura más compleja, o cualquier otra abstracción similar. Similarmente, las relaciones entre estos objetos suelen depender del contexto en el cual ha sido definido el grafo. Por ejemplo, enlances de dirección a sitios web, seguidores en una red social o enlaces químicos. La Fig. (7.1) ilustra todos estos ejemplos de manera más gráfica.\n",
    "\n",
    "<p style=\"text-align: center;\"><img src=\"figures/fig_7_1.png\" width=\"1000\"></p>\n",
    "<p style=\"text-align: center;\">Fig. (7.1): Algunos ejemplos de grafos que representan determinadas estructuras de interés. Los grafos (a) y (b) representan<br>la misma estructura química, correspondiente a una molécula de paracetamol. La diferencia es que, en la representación en<br>red (b), los tipos de enlace químico llevan asociado un peso en cada arco, los que se corresponden con el número de electrones de<br>valencia (Imagen adaptada del hermoso libro \"Linear Algebra and Optimization for Machine Learning, a Textbook\",<br>de Charu C. Aggarwal (2022))</p>\n",
    "\n",
    "Los objetos representados por un grafo suelen ser llamados **vértices** o **nodos**, mientras que las relaciones entre ellas se esquematizan por medio de **arcos** o **caminos**. Tiene sentido pues la siguiente definición.\n",
    "\n",
    "**<font color='blue'>Definición 7.1 – Grafo:</font>** Un **grafo** es un par ordenado $G=(V,E)$, donde $V$ es el conjunto de nodos y $E$ es el conjunto de arcos que constituyen todas las relaciones posibles entre los nodos de $G$. En general, el conjunto $V$ es finito, y suele estar constituido por un total de $n$ elementos –con lo cual solemos escribir $V=\\left\\{ 1,...,n\\right\\}$–, siendo por tanto $n$ el **orden** del grafo $G$. El conjunto $E$ suele explicitarse como $E=\\left\\{ \\left( i,j\\right)  \\in \\mathbb{R}^{2} :i\\wedge j\\in V,i\\neq j\\right\\}$, donde el arco $(i,j)$ es aquel que conecta al nodo $i$ con el nodo $j$. Cuando todos los nodos de $G$ tienen arcos de conexión con el resto de los nodos, decimos que $G$ es un grafo **totalmente interconectado**.\n",
    "\n",
    "Los grafos tienen varias propiedades que son de interés. Por ejemplo, éstos pueden **dirigidos** o **no dirigidos**. En el primer caso, cada uno de los arcos $(i,j)$ tiene una dirección previamente definida, de manera tal que *circula* información desde $i$ hacia $j$ pero no desde $j$ hacia $i$. Un ejemplo de implementación de un grafo dirigido corresponde a la representación de una neurona artificial.\n",
    "\n",
    "En muchas aplicaciones generales, el origen de un arco normalmente se denomina **cola**, y su destino, **cabeza**. Por lo tanto, es común el uso de flechas para ilustrar arcos dirigidos en un grafo. Un ejemplo de grafo dirigido se muestra en la Fig. (7.2)."
   ]
  }
 ],
 "metadata": {
  "kernelspec": {
   "display_name": "Python 3 (ipykernel)",
   "language": "python",
   "name": "python3"
  },
  "language_info": {
   "codemirror_mode": {
    "name": "ipython",
    "version": 3
   },
   "file_extension": ".py",
   "mimetype": "text/x-python",
   "name": "python",
   "nbconvert_exporter": "python",
   "pygments_lexer": "ipython3",
   "version": "3.9.18"
  }
 },
 "nbformat": 4,
 "nbformat_minor": 5
}
