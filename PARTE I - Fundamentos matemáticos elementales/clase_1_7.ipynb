{
 "cells": [
  {
   "cell_type": "markdown",
   "id": "777beea6-f41f-48b1-9b63-bff60b2e1565",
   "metadata": {},
   "source": [
    "# CLASE 1.7: Una (no tan breve) introducción a la teoría de grafos.\n",
    "---\n",
    "## Intoducción.\n",
    "Los **grafos**, también conocidos como **redes**, son protagonistas de muchísimas aplicaciones en el mundo real, tales como el Internet, las redes sociales y las redes de comunicación. Por supuesto, existen muchísimas implementaciones de los algoritmos de machine learning que pueden conceptualizarse de forma sumamente elegante mediante el uso de grafos, sobre la base –como siempre– de problemas de optimización. Los grafos pueden ser representados por una cantidad no menor de objetos matemáticos, entre los cuales se encuentran las matrices. Tales matrices poseen propiedades deseables que las hacen sumamente útiles para una serie de aplicaciones en el contexto del aprendizaje automatizado.\n",
    "\n",
    "Esta última sección \"de repaso\" (entre comillas porque esto no es *tan* común en muchas carreras de ingeniería... ¡como la mía!) está estructurada de manera tal que, en un comienzo, introduciremos los elementos básicos relativos a los grafos o redes y sus representaciones mediante **matrices de adyacencia**, para luego describir las propiedades de estas matrices y concluir algunos resultados importantes en relación a su descomposición diagonal. Luego nos adentraremos un poco en la teoría de clustering con base en el uso de grafos, haciendo uso intensivo de herramientas desarrolladas en las secciones dedicadas al álgebra lineal. Finalmente, discutiremos algunos aspectos relativos a algoritmos de ranking y grafos con conectividad limitada, dándonos algo de tiempo de revisar brevemente algunas aplicaciones orientadas a los algoritmos de aprendizaje."
   ]
  },
  {
   "attachments": {},
   "cell_type": "markdown",
   "id": "31c3cee8-be38-454a-a401-cdbed527fc49",
   "metadata": {},
   "source": [
    "## Elementos básicos de un grafo.\n",
    "\n",
    "### Definición de grafo.\n",
    "Un **grafo** o **red** es una estructura que comúnmente se utiliza para representar *relaciones* entre ciertos objetos. Tales objetos pueden ser de cualquier tipo, tales como sitios web, usuarios de una red social, elementos químicos que conforman la molécula de una estructura más compleja, o cualquier otra abstracción similar. Similarmente, las relaciones entre estos objetos suelen depender del contexto en el cual ha sido definido el grafo. Por ejemplo, enlances de dirección a sitios web, seguidores en una red social o enlaces químicos. La Fig. (7.1) ilustra todos estos ejemplos de manera más gráfica.\n",
    "\n",
    "<p style=\"text-align: center;\"><img src=\"figures/fig_7_1.png\" width=\"1000\"></p>\n",
    "<p style=\"text-align: center;\">Fig. (7.1): Algunos ejemplos de grafos que representan determinadas estructuras de interés. Los grafos (a) y (b) representan<br>la misma estructura química, correspondiente a una molécula de paracetamol. La diferencia es que, en la representación en<br>red (b), los tipos de enlace químico llevan asociado un peso en cada arco, los que se corresponden con el número de electrones de<br>valencia (Imagen adaptada del hermoso libro \"Linear Algebra and Optimization for Machine Learning, a Textbook\",<br>de Charu C. Aggarwal (2022))</p>\n",
    "\n",
    "Los objetos representados por un grafo suelen ser llamados **vértices** o **nodos**, mientras que las relaciones entre ellas se esquematizan por medio de **arcos** o **caminos**. Tiene sentido pues la siguiente definición.\n",
    "\n",
    "**<font color='blue'>Definición 7.1 – Grafo:</font>** Un **grafo** es un par ordenado $G=(V,E)$, donde $V$ es el conjunto de nodos y $E$ es el conjunto de arcos que constituyen todas las relaciones posibles entre los nodos de $G$. En general, el conjunto $V$ es finito, y suele estar constituido por un total de $n$ elementos –con lo cual solemos escribir $V=\\left\\{ 1,...,n\\right\\}$–, siendo por tanto $n$ el **orden** del grafo $G$. El conjunto $E$ suele explicitarse como $E=\\left\\{ \\left( i,j\\right)  \\in \\mathbb{R}^{2} :i\\wedge j\\in V,i\\neq j\\right\\}$, donde el arco $(i,j)$ es aquel que conecta al nodo $i$ con el nodo $j$. Cuando todos los nodos de $G$ tienen arcos de conexión con el resto de los nodos, decimos que $G$ es un grafo **totalmente interconectado**.\n",
    "\n",
    "### Caracterización topológica.\n",
    "Los grafos tienen varias propiedades que son de interés. Por ejemplo, éstos pueden **dirigidos** o **no dirigidos**. En el primer caso, cada uno de los arcos $(i,j)$ tiene una dirección previamente definida, de manera tal que *circula* información desde $i$ hacia $j$ pero no desde $j$ hacia $i$. Un ejemplo de implementación de un grafo dirigido típico en minería y metalurgia corresponde al diagrama de flujo de mineral una planta concentradora. Toda planta siempre tiene un nodo de inicio (generalmente, un proceso de chancado primario) y una serie de nodos finales que dependerá de la fragmentación de flujo en la red completa (por ejemplo, para el caso del concentrado de cobre, dicho nodo final puede ser un puerto, mientras que para el caso del relave, el nodo final corresponderá a un tranque).\n",
    "\n",
    "En muchas aplicaciones generales, el origen de un arco normalmente se denomina **cola**, y su destino, **cabeza**. Por lo tanto, es común el uso de flechas para ilustrar arcos dirigidos en un grafo. Un ejemplo de grafo dirigido se muestra en la Fig. (7.2).\n",
    "\n",
    "<p style=\"text-align: center;\"><img src=\"figures/fig_7_2.png\" width=\"700\"></p>\n",
    "<p style=\"text-align: center;\">Fig. (7.2): Un ejemplo de grafo dirigido que representa el flujo de mineral a través de un circuito de molienda<br>SAG típico en varias plantas concentradoras\n",
    "\n",
    "En el caso de los grafos no dirigidos, su representación prescinde del uso de flechas en los arcos correspondientes. Un ejemplo de grafo no dirigido corresponde a la representación de un enlace químico, o las amistades en Facebook®.\n",
    "\n",
    "Los grafos, además, pueden estar o no **ponderados**. En un grafo no ponderado, un arco puede o no estar presente entre dos vértices y, por tanto, no tiene sentido asignar ningún número a dicho arco en caso de que exista. En términos algebraicos, la representación de un grafo no ponderado es de tipo binaria. De esta manera, la relación entre cada par de vértices siempre puede explicitarse mediante un 1 o un 0, dependiendo de si existe o no un arco que una a tales pares de vértices, respectivamente. Por otro lado, resulta común la asignación de pesos a los arcos de un grafo, los cuales representan la *fuerza* de una determinada conexión. En el caso del grafo de la Fig. (7.2), tiene sentido la asignación de pesos a cada uno de los arcos, porque tales valores pueden representar las cargas circulantes de mineral entre cada nodo.\n",
    "\n",
    "En un grafo no dirigido, el **grado de un nodo** se define como el número de arcos que entran o salen de dicho nodo. Dado que cada arco incide en dos nodos, la suma de los grados de todos los nodos en un grafo no dirigido es siempre igual al doble del número de nodos. Por otro lado, en el caso de un grafo dirigido, tiene más sentido hablar de los **grados de entrada y salida de un nodo**. El grado de entrada de un nodo corresponde al número de arcos que entran a dicho nodo, mientras que el grado de salida corresponde al número de arcos que salen de él. Para un grafo con $m$ nodos en total, la suma de los grados de entrada y de salida en todos los nodos es siempre igual a $m$, ya que cada arco está dirigido exactamente hacia un nodo, y siempre sale exactamente de otro.\n",
    "\n",
    "### Estructuras básicas.\n",
    "**<font color='blue'>Definición 7.2 – Paseo:</font>** Sea $G=(V,E)$ un grafo con $n$ nodos en total. Un **paseo** es cualquier secuencia $i_{1},...,i_{k}$ de nodos tal que existe un arco que conecta al nodo $i_{r}$ con el nodo $i_{r+1}$ ($1\\leq\\ r+1\\leq k\\leq n$).\n",
    "\n",
    "En el caso de grafos dirigidos, es claro que la cola del arco debe estar en el nodo $i_{r}$, y su cabeza, en $i_{r+1}$. Independientemente de si el grafo es dirigido o no, no existe ningún tipo de restricción en el número de nodos que pueden repetirse en la extensión de un paseo. Por ejmplo, en la Fig. (7.2), la secuencia *Stock - SAG - Harnero - Compuerta - Chancado de pebbles - SAG* es un paseo que representa la carga circulante de pebbles en este circuito de molienda, considerando la recirculación de pebbles chancados al molino SAG. \n",
    "\n",
    "Cuando un paseo está restringido a pasar siempre por nodos distintos en un grafo, dicho paseo es llamado **camino** o **trayectoria**. En la misma Fig. (7.2), la secuencia *Stock - SAG - Harnero - Cuba de descarga - Batería de hidrociclones - Flotación* es un camino que representa la trayectoria del mineral fino que llega al tamaño de liberación en el proceso de molienda y es enviado al proceso de flotación para continuar con la recuperación de minerales de interés económico.\n",
    "\n",
    "Cuando un paseo es tal que empieza y termina en el mismo nodo, es llamado **ciclo** o **loop**. Nuevamente, en el ejemplo ilustrado en la Fig. (7.2), la secuencia *Cuba de descarga - Batería de hidrociclones - Molino de bolas - Cuba de descarga* es un ciclo que representa la recirculación de mineral grueso que pasa por la clasificación de tamaños en los hidrociclones, siendo por tanto tratado en los molinos de bolas para su reincorporación a la cuba de descarga y así ser enviado nuevamente a los ciclones.\n",
    "\n",
    "Cuando un grafo dirigido no presenta ciclos, dicho grafo es llamado **acíclico**. Por el contrario, si existen ciclos en el mismo, será llamado **cíclico**.\n",
    "\n",
    "**<font color='blue'>Definición 7.3 – Sub-grafo:</font>** Sea $G=(V,E)$ un grafo arbitrario. Cualquier colección vértices y arcos de $G$ es llamada **sub-grafo** de $G$.\n",
    "\n",
    "Notemos que si definimos un sub-grafo a partir de los vértices de un grafo, es evidente que cada par de nodos que define a dichos arcos estará incluido también en el sub-grafo. Para todo grafo $G=(V,E)$, el **sub-grafo inducido** por un conjunto de nodos $V^{\\ast}\\subseteq V$ es el grafo $G^{\\ast}=(V^{\\ast},E^{\\ast})$ en el cual $E^{\\ast}\\subseteq E$ contiene todos los arcos entre cada par de nodos en $V^{\\ast}$.\n",
    "\n",
    "### Conectividad y diámetro.\n",
    "Un grafo no dirigido $G=(V,E)$ se denomina como **conectado** si existe un camino entre cada par de nodos de $G$. Todo grafo no dirigido que no esté conectado puede fragmentarse en un número finito de **componentes conectadas**. Una componente conectada es un subconjunto de nodos del grafo original, tal que el sub-grafo inducido por esos nodos está conectado. La Fig. (7.3) ilustra los conceptos anteriores.\n",
    "\n",
    "<p style=\"text-align: center;\"><img src=\"figures/fig_7_3.png\" width=\"400\"></p>\n",
    "<p style=\"text-align: center;\">Fig. (7.3): Ejemplos de grafos no dirigidos conectado y desconectado\n",
    "\n",
    "Un grafo dirigido es llamado **fuertemente o totalmente (inter)conectado** si existe un camino directo entre cada par de nodos en cualquier dirección. En otras palabras, para cualquier par de nodos $(i,j)$, debe existir un camino que conecte de forma directa a $i$ con $j$, y también debe existir un camino desde $j$ hasta $i$. Por ejemplo, todo grafo constituido por único ciclo o loop es, por definición, un grafo fuertemente conectado. Por otro lado, un único par de nodos conectados por un arco o un grafo dirigido acíclico son ejemplos de grafos que no están fuertemente conectados"
   ]
  },
  {
   "cell_type": "code",
   "execution_count": null,
   "id": "81a729a2-3c07-4855-ad9d-fcc9ce7b8166",
   "metadata": {},
   "outputs": [],
   "source": []
  }
 ],
 "metadata": {
  "kernelspec": {
   "display_name": "Python 3 (ipykernel)",
   "language": "python",
   "name": "python3"
  },
  "language_info": {
   "codemirror_mode": {
    "name": "ipython",
    "version": 3
   },
   "file_extension": ".py",
   "mimetype": "text/x-python",
   "name": "python",
   "nbconvert_exporter": "python",
   "pygments_lexer": "ipython3",
   "version": "3.9.18"
  }
 },
 "nbformat": 4,
 "nbformat_minor": 5
}
